{
 "cells": [
  {
   "cell_type": "code",
   "execution_count": 24,
   "id": "3f498341",
   "metadata": {},
   "outputs": [
    {
     "name": "stdout",
     "output_type": "stream",
     "text": [
      "정상적으로 메일이 발송되었습니다.\n"
     ]
    },
    {
     "data": {
      "text/plain": [
       "(221,\n",
       " b'2.0.0 closing connection r14-20020a170902ea4e00b0015e8d4eb27csm6119143plg.198 - gsmtp')"
      ]
     },
     "execution_count": 24,
     "metadata": {},
     "output_type": "execute_result"
    }
   ],
   "source": [
    "import smtplib\n",
    "from email.message import EmailMessage\n",
    "import imghdr\n",
    "import re\n",
    "\n",
    "SMTP_SERVER=\"smtp.gmail.com\"\n",
    "SMTP_PORT=465\n",
    "\n",
    "def sendEmail(addr):\n",
    "    #소문자 a-z 대문자 A-Z :2~3\n",
    "    reg=\"^[a-zA-Z0-9.+_-]+@[a-zA-Z0-9]+\\.[a-zA-Z]{2,3}$\"\n",
    "    if bool (re.match(reg,\"codelion.example@gmail.com\")):\n",
    "        smtp.send_message(message)  #메일 보내는 함수\n",
    "        print(\"정상적으로 메일이 발송되었습니다.\")\n",
    "    else: \n",
    "        print(\"유효한 이메일 주소가 아닙니다.\")\n",
    "    \n",
    "message=EmailMessage()\n",
    "message.set_content(\"코드라이언 수업중입니다.\")\n",
    "\n",
    "message['Subject']=\"이것은 제목입니다.\"\n",
    "message['From']=\"2uwls1126@likelion.org\"\n",
    "message['To']=\"2uwls1126@g.skku.edu\"\n",
    "\n",
    "\n",
    "#open()-codelion.png/rb\n",
    "#image=open(\"codelion.png\",\"rb\")\n",
    "with open(\"codelion.png\",\"rb\") as image:\n",
    "    image_file=image.read()\n",
    "#파일을 읽어서 출력해보세요. read()\n",
    "#print(image.read())\n",
    "image_type=imghdr.what('codelion',image_file)\n",
    "message.add_attachment(image_file,maintype='image',subtype=image_type)\n",
    "\n",
    "smtp=smtplib.SMTP_SSL(SMTP_SERVER,SMTP_PORT)\n",
    "smtp.login(\"2uwls1126@likelion.org\",\"#####\")\n",
    "#메일을 보내는 sendEmail 함수를 호출해서 실행해보기\n",
    "sendEmail(\"2uwls1126@g.skku.edu\")\n",
    "\n",
    "\n",
    "\n",
    "smtp.quit()\n"
   ]
  },
  {
   "cell_type": "code",
   "execution_count": null,
   "id": "ab8160fd",
   "metadata": {},
   "outputs": [],
   "source": []
  }
 ],
 "metadata": {
  "kernelspec": {
   "display_name": "Python 3 (ipykernel)",
   "language": "python",
   "name": "python3"
  },
  "language_info": {
   "codemirror_mode": {
    "name": "ipython",
    "version": 3
   },
   "file_extension": ".py",
   "mimetype": "text/x-python",
   "name": "python",
   "nbconvert_exporter": "python",
   "pygments_lexer": "ipython3",
   "version": "3.9.7"
  }
 },
 "nbformat": 4,
 "nbformat_minor": 5
}
