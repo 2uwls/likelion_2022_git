{
 "cells": [
  {
   "cell_type": "code",
   "execution_count": 3,
   "id": "7161b171",
   "metadata": {},
   "outputs": [
    {
     "name": "stdout",
     "output_type": "stream",
     "text": [
      "{\"coord\":{\"lon\":126.9778,\"lat\":37.5683},\"weather\":[{\"id\":800,\"main\":\"Clear\",\"description\":\"clear sky\",\"icon\":\"01d\"}],\"base\":\"stations\",\"main\":{\"temp\":285.21,\"feels_like\":284.22,\"temp_min\":282.81,\"temp_max\":285.91,\"pressure\":1019,\"humidity\":67},\"visibility\":10000,\"wind\":{\"speed\":2.06,\"deg\":180},\"clouds\":{\"all\":0},\"dt\":1651532970,\"sys\":{\"type\":1,\"id\":8105,\"country\":\"KR\",\"sunrise\":1651523701,\"sunset\":1651573372},\"timezone\":32400,\"id\":1835848,\"name\":\"Seoul\",\"cod\":200}\n"
     ]
    }
   ],
   "source": [
    "import requests\n",
    "import json\n",
    "\n",
    "city = \"Seoul\"\n",
    "apikey=\"39ef13ead444d1d1e73c78e7ee0d4811\"\n",
    "api = f\"http://api.openweathermap.org/data/2.5/weather?q={city}&appid={apikey}\"\n",
    "\n",
    "\n",
    "result=requests.get(api)\n",
    "print(result.text)\n",
    "\n",
    "data = json.loads(result.text)\n",
    "\n",
    "#print(type(result.text))\n",
    "#print(type(data))\n"
   ]
  },
  {
   "cell_type": "code",
   "execution_count": null,
   "id": "b0745095",
   "metadata": {},
   "outputs": [],
   "source": []
  }
 ],
 "metadata": {
  "kernelspec": {
   "display_name": "Python 3 (ipykernel)",
   "language": "python",
   "name": "python3"
  },
  "language_info": {
   "codemirror_mode": {
    "name": "ipython",
    "version": 3
   },
   "file_extension": ".py",
   "mimetype": "text/x-python",
   "name": "python",
   "nbconvert_exporter": "python",
   "pygments_lexer": "ipython3",
   "version": "3.9.7"
  }
 },
 "nbformat": 4,
 "nbformat_minor": 5
}
