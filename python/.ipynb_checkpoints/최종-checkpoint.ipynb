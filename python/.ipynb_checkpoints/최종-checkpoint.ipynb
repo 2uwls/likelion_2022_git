{
 "cells": [
  {
   "cell_type": "code",
   "execution_count": null,
   "id": "bac834b3",
   "metadata": {},
   "outputs": [],
   "source": [
    "import random\n",
    "import time\n",
    "\n",
    "lunch = [\"된장찌개\", \"피자\", \"제육볶음\", \"짜장면\"]\n",
    "\n",
    "set_lunch=set(lunch)\n",
    "while True:\n",
    "    print(set_lunch)\n",
    "    item=input(\"음식을 삭제해주세요 :\")\n",
    "    if (item==\"q\"):\n",
    "        break\n",
    "    else:\n",
    "        set_lunch=set_lunch-set([item])\n",
    "        \n",
    "print(set_lunch,\"중에서 선택합니다.\")\n",
    "print(\"5\")\n",
    "time.sleep(1)\n",
    "print(\"4\")\n",
    "time.sleep(1)\n",
    "print(\"3\")\n",
    "time.sleep(1)\n",
    "print(\"2\")\n",
    "time.sleep(1)\n",
    "print(\"1\")\n",
    "time.sleep(1)\n",
    "print(random.choice(list(set_lunch)))"
   ]
  },
  {
   "cell_type": "code",
   "execution_count": null,
   "id": "8b93880b",
   "metadata": {},
   "outputs": [],
   "source": []
  }
 ],
 "metadata": {
  "kernelspec": {
   "display_name": "Python 3 (ipykernel)",
   "language": "python",
   "name": "python3"
  },
  "language_info": {
   "codemirror_mode": {
    "name": "ipython",
    "version": 3
   },
   "file_extension": ".py",
   "mimetype": "text/x-python",
   "name": "python",
   "nbconvert_exporter": "python",
   "pygments_lexer": "ipython3",
   "version": "3.9.7"
  }
 },
 "nbformat": 4,
 "nbformat_minor": 5
}
