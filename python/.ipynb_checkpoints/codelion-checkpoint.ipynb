{
 "cells": [
  {
   "cell_type": "code",
   "execution_count": 1,
   "id": "83362d12",
   "metadata": {},
   "outputs": [
    {
     "name": "stdout",
     "output_type": "stream",
     "text": [
      "제육볶음\n"
     ]
    }
   ],
   "source": [
    "import random\n",
    "\n",
    "print(random.choice([\"된장찌개\",\"피자\",\"제육볶음\"]))"
   ]
  },
  {
   "cell_type": "code",
   "execution_count": 3,
   "id": "452fdd84",
   "metadata": {},
   "outputs": [
    {
     "name": "stdout",
     "output_type": "stream",
     "text": [
      "제육볶음\n",
      "된장찌개\n",
      "된장찌개\n",
      "피자\n",
      "된장찌개\n"
     ]
    }
   ],
   "source": [
    "import random\n",
    "print(random.choice([\"된장찌개\",\"피자\",\"제육볶음\",\"치킨\",\"떡볶이\"]))\n",
    "print(random.choice([\"된장찌개\",\"피자\",\"제육볶음\",\"치킨\",\"떡볶이\"]))\n",
    "print(random.choice([\"된장찌개\",\"피자\",\"제육볶음\",\"치킨\",\"떡볶이\"]))\n",
    "print(random.choice([\"된장찌개\",\"피자\",\"제육볶음\",\"치킨\",\"떡볶이\"]))\n",
    "print(random.choice([\"된장찌개\",\"피자\",\"제육볶음\",\"치킨\",\"떡볶이\"]))\n"
   ]
  },
  {
   "cell_type": "code",
   "execution_count": 7,
   "id": "0f95ab5a",
   "metadata": {},
   "outputs": [
    {
     "name": "stdout",
     "output_type": "stream",
     "text": [
      "떡볶이\n",
      "이 문장도 반복되나?\n",
      "감자튀김\n",
      "이 문장도 반복되나?\n",
      "치킨\n",
      "이 문장도 반복되나?\n",
      "감자튀김\n",
      "이 문장도 반복되나?\n",
      "떡볶이\n",
      "이 문장도 반복되나?\n",
      "제육볶음\n",
      "이 문장도 반복되나?\n",
      "떡볶이\n",
      "이 문장도 반복되나?\n",
      "제육볶음\n",
      "이 문장도 반복되나?\n",
      "된장찌개\n",
      "이 문장도 반복되나?\n",
      "떡볶이\n",
      "이 문장도 반복되나?\n",
      "치킨\n",
      "이 문장도 반복되나?\n",
      "치킨\n",
      "이 문장도 반복되나?\n",
      "감자튀김\n",
      "이 문장도 반복되나?\n",
      "떡볶이\n",
      "이 문장도 반복되나?\n",
      "감자튀김\n",
      "이 문장도 반복되나?\n",
      "감자튀김\n",
      "이 문장도 반복되나?\n",
      "떡볶이\n",
      "이 문장도 반복되나?\n",
      "제육볶음\n",
      "이 문장도 반복되나?\n",
      "제육볶음\n",
      "이 문장도 반복되나?\n",
      "떡볶이\n",
      "이 문장도 반복되나?\n",
      "라면\n",
      "이 문장도 반복되나?\n",
      "감자튀김\n",
      "이 문장도 반복되나?\n",
      "감자튀김\n",
      "이 문장도 반복되나?\n",
      "된장찌개\n",
      "이 문장도 반복되나?\n",
      "라면\n",
      "이 문장도 반복되나?\n",
      "라면\n",
      "이 문장도 반복되나?\n",
      "떡볶이\n",
      "이 문장도 반복되나?\n",
      "감자튀김\n",
      "이 문장도 반복되나?\n",
      "라면\n",
      "이 문장도 반복되나?\n",
      "감자튀김\n",
      "이 문장도 반복되나?\n"
     ]
    }
   ],
   "source": [
    "import random\n",
    "for x in range(30):\n",
    "    print(random.choice([\"된장찌개\",\"제육볶음\",\"치킨\",\"떡볶이\",\"라면\",\"감자튀김\"]))\n",
    "    print(\"이 문장도 반복되나?\")"
   ]
  },
  {
   "cell_type": "code",
   "execution_count": 11,
   "id": "37af9a1d",
   "metadata": {},
   "outputs": [
    {
     "name": "stdout",
     "output_type": "stream",
     "text": [
      "감자튀김\n",
      "이 문장도 반복되나?\n"
     ]
    }
   ],
   "source": [
    "import random\n",
    "while True:\n",
    "    print(random.choice([\"된장찌개\",\"제육볶음\",\"치킨\",\"떡볶이\",\"라면\",\"감자튀김\"]))\n",
    "    print(\"이 문장도 반복되나?\")\n",
    "    time.sleep(1)\n",
    "    break"
   ]
  },
  {
   "cell_type": "code",
   "execution_count": 14,
   "id": "42f2ea38",
   "metadata": {},
   "outputs": [
    {
     "name": "stdout",
     "output_type": "stream",
     "text": [
      "피자\n",
      "돈까스\n"
     ]
    }
   ],
   "source": [
    "import random\n",
    "\n",
    "lunch=(random.choice([\"된장찌개\",\"피자\",\"제육볶음\"]))\n",
    "lunch=\"냉장고\"\n",
    "dinner=(random.choice([\"김밥\",\"쫄면\",\"돈까스\"]))\n",
    "print(lunch)\n",
    "print(dinner)\n"
   ]
  },
  {
   "cell_type": "code",
   "execution_count": 23,
   "id": "70b730f9",
   "metadata": {},
   "outputs": [
    {
     "name": "stdout",
     "output_type": "stream",
     "text": [
      "{'고향': '수원', '취미': '영화보기', '좋아하는 음식': '국수'}\n",
      "영화보기\n",
      "피아노\n",
      "서울\n"
     ]
    }
   ],
   "source": [
    "information={'고향':'수원','취미':'영화보기','좋아하는 음식':'국수'}\n",
    "print(information)\n",
    "print(information.get(\"취미\"))\n",
    "\n",
    "info={'특기':'피아노',\"사는 곳\":\"서울\"}\n",
    "print(info.get('특기'))\n",
    "print(info.get(\"사는 곳\"))"
   ]
  },
  {
   "cell_type": "code",
   "execution_count": 39,
   "id": "39aabe4a",
   "metadata": {},
   "outputs": [
    {
     "name": "stdout",
     "output_type": "stream",
     "text": [
      "영화보기\n",
      "{'고향': '수원', '취미': '영화보기', '특기': '피아노', '사는곳': '서울'}\n",
      "4\n",
      "{}\n",
      "제육볶음\n",
      "['된장찌개', '피자', '제육볶음', '김밥']\n",
      "['된장찌개', '제육볶음', '김밥']\n"
     ]
    }
   ],
   "source": [
    "information={'고향':'수원','취미':'영화보기','좋아하는 음식':'국수'}\n",
    "foods=[\"된장찌개\",\"피자\",\"제육볶음\"]\n",
    "print(information.get(\"취미\"))\n",
    "information['특기']=\"피아노\"\n",
    "information['사는곳']=\"서울\"\n",
    "del information['좋아하는 음식']\n",
    "print(information)\n",
    "print(len(information))\n",
    "information.clear()\n",
    "print(information)\n",
    "print(foods[2])\n",
    "foods.append(\"김밥\")\n",
    "print(foods)\n",
    "del foods[1]\n",
    "print(foods)"
   ]
  },
  {
   "cell_type": "code",
   "execution_count": 47,
   "id": "95ded105",
   "metadata": {},
   "outputs": [
    {
     "name": "stdout",
     "output_type": "stream",
     "text": [
      "0\n",
      "1\n",
      "2\n",
      "3\n",
      "4\n",
      "5\n",
      "6\n",
      "7\n",
      "8\n",
      "9\n",
      "10\n",
      "11\n",
      "12\n",
      "13\n",
      "14\n",
      "15\n",
      "16\n",
      "17\n",
      "18\n",
      "19\n",
      "20\n",
      "21\n",
      "22\n",
      "23\n",
      "24\n",
      "25\n",
      "26\n",
      "27\n",
      "28\n",
      "29\n",
      "된장찌개\n",
      "피자\n",
      "제육볶음\n",
      "된장찌개\n",
      "피자\n",
      "제육볶음\n",
      "고향\n",
      "수원\n",
      "취미\n",
      "영화관람\n",
      "좋아하는 음식\n",
      "국수\n"
     ]
    }
   ],
   "source": [
    "for x in range(30):\n",
    "    print(x)\n",
    "    \n",
    "foods=[\"된장찌개\",\"피자\",\"제육볶음\"]\n",
    "\n",
    "for x in range(3):\n",
    "    print(foods[x])\n",
    "    \n",
    "#모든 요소 접근\n",
    "for x in foods:\n",
    "    print(x)\n",
    "    \n",
    "information={\"고향\":\"수원\",\"취미\":\"영화관람\",\"좋아하는 음식\":\"국수\"}\n",
    "for x, y in information.items():\n",
    "    print(x)\n",
    "    print(y)"
   ]
  },
  {
   "cell_type": "code",
   "execution_count": 51,
   "id": "9639b2d6",
   "metadata": {},
   "outputs": [
    {
     "name": "stdout",
     "output_type": "stream",
     "text": [
      "{'된장찌개', '피자', '제육볶음'}\n",
      "{'된장찌개', '피자', '제육볶음'}\n"
     ]
    }
   ],
   "source": [
    "foods=[\"된장찌개\",\"피자\",\"제육볶음\"]\n",
    "foods_set1=set(foods)\n",
    "foods_set2=set([\"된장찌개\",\"피자\",\"제육볶음\"])\n",
    "print(foods_set1)\n",
    "print(foods_set2)\n",
    "\n"
   ]
  },
  {
   "cell_type": "code",
   "execution_count": 53,
   "id": "a2186912",
   "metadata": {},
   "outputs": [
    {
     "name": "stdout",
     "output_type": "stream",
     "text": [
      "['된장찌개', '피자', '제육볶음', '된장찌개']\n",
      "{'된장찌개', '피자', '제육볶음'}\n"
     ]
    }
   ],
   "source": [
    "foods=[\"된장찌개\",\"피자\",\"제육볶음\",\"된장찌개\"]\n",
    "foods_set=set(foods)\n",
    "print(foods)\n",
    "print(foods_set)\n"
   ]
  },
  {
   "cell_type": "code",
   "execution_count": 59,
   "id": "74923654",
   "metadata": {},
   "outputs": [
    {
     "name": "stdout",
     "output_type": "stream",
     "text": [
      "{'피자', '제육볶음'}\n"
     ]
    }
   ],
   "source": [
    "menu1=set([\"된장찌개\",\"피자\",\"제육볶음\"])\n",
    "menu2=set([\"된장찌개\",\"떡국\",\"김밥\"])\n",
    "#합집합\n",
    "menu3=menu1|menu2\n",
    "#교집합\n",
    "menu3=menu1&menu2\n",
    "#차집합\n",
    "menu3=menu1-menu2\n",
    "print(menu3)"
   ]
  },
  {
   "cell_type": "code",
   "execution_count": 77,
   "id": "b80ab73d",
   "metadata": {},
   "outputs": [
    {
     "name": "stdout",
     "output_type": "stream",
     "text": [
      "피자\n",
      "그냥 주세요\n",
      "종료\n"
     ]
    }
   ],
   "source": [
    "food=random.choice([\"된장찌개\",\"피자\",\"제육볶음\"])\n",
    "print(food)\n",
    "if (food==\"제육볶음\"):\n",
    "    print(\"곱빼기 주세요\")\n",
    "else:\n",
    "    print(\"그냥 주세요\")\n",
    "print(\"종료\")"
   ]
  },
  {
   "cell_type": "code",
   "execution_count": null,
   "id": "4abce5c6",
   "metadata": {},
   "outputs": [],
   "source": [
    "lunch=[\"된장찌개\",\"피자\",\"제육볶음\",\"짜장면\"]\n",
    "while True:\n",
    "    print(lunch)\n",
    "    item=input(\"음식을 추가 해주세요 : \")\n",
    "    if(item==\"q\"):\n",
    "        break\n",
    "    else:\n",
    "        lunch.append(item)\n",
    "\n",
    "print(lunch)\n",
    "set_lunch=set(lunch)"
   ]
  },
  {
   "cell_type": "code",
   "execution_count": null,
   "id": "d3a4f967",
   "metadata": {},
   "outputs": [],
   "source": []
  }
 ],
 "metadata": {
  "kernelspec": {
   "display_name": "Python 3 (ipykernel)",
   "language": "python",
   "name": "python3"
  },
  "language_info": {
   "codemirror_mode": {
    "name": "ipython",
    "version": 3
   },
   "file_extension": ".py",
   "mimetype": "text/x-python",
   "name": "python",
   "nbconvert_exporter": "python",
   "pygments_lexer": "ipython3",
   "version": "3.9.7"
  }
 },
 "nbformat": 4,
 "nbformat_minor": 5
}
