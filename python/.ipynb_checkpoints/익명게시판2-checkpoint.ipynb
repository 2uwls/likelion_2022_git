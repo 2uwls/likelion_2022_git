{
 "cells": [
  {
   "cell_type": "code",
   "execution_count": null,
   "id": "8f0d08a0",
   "metadata": {},
   "outputs": [],
   "source": [
    "total_list=[]\n",
    "\n",
    "while True:\n",
    "    question=input(\"질문을 입력해주세요 : \")\n",
    "    if question==\"q\":\n",
    "        break\n",
    "    else:\n",
    "        total_list.append{\"질문\":question, \"답변\":\"\"}\n",
    "\n",
    "for i in total_list:\n",
    "    print(i[\"질문\"])\n",
    "    i[\"답변\"]=input(\"답변을 입력해주세요 : \")\n",
    "print(total_dictionary)\n"
   ]
  },
  {
   "cell_type": "code",
   "execution_count": null,
   "id": "552a3920",
   "metadata": {},
   "outputs": [],
   "source": []
  }
 ],
 "metadata": {
  "kernelspec": {
   "display_name": "Python 3 (ipykernel)",
   "language": "python",
   "name": "python3"
  },
  "language_info": {
   "codemirror_mode": {
    "name": "ipython",
    "version": 3
   },
   "file_extension": ".py",
   "mimetype": "text/x-python",
   "name": "python",
   "nbconvert_exporter": "python",
   "pygments_lexer": "ipython3",
   "version": "3.9.7"
  }
 },
 "nbformat": 4,
 "nbformat_minor": 5
}
