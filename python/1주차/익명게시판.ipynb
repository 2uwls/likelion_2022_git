{
 "cells": [
  {
   "cell_type": "code",
   "execution_count": null,
   "id": "28cc9df5",
   "metadata": {},
   "outputs": [],
   "source": [
    "total_dictionary={}\n",
    "\n",
    "while True:\n",
    "    question=input(\"질문을 입력해주세요 : \")\n",
    "    if question==\"q\":\n",
    "        break\n",
    "    else:\n",
    "        total_dictionary[question]=\"\"\n",
    "\n",
    "for i in total_dictionary:\n",
    "    print(i)\n",
    "    answer=input(\"답변을 입력해주세요 : \")\n",
    "    total_dictionary[i]=answer\n",
    "print(total_dictionary)\n"
   ]
  },
  {
   "cell_type": "code",
   "execution_count": null,
   "id": "f845d149",
   "metadata": {},
   "outputs": [],
   "source": []
  }
 ],
 "metadata": {
  "kernelspec": {
   "display_name": "Python 3 (ipykernel)",
   "language": "python",
   "name": "python3"
  },
  "language_info": {
   "codemirror_mode": {
    "name": "ipython",
    "version": 3
   },
   "file_extension": ".py",
   "mimetype": "text/x-python",
   "name": "python",
   "nbconvert_exporter": "python",
   "pygments_lexer": "ipython3",
   "version": "3.9.7"
  }
 },
 "nbformat": 4,
 "nbformat_minor": 5
}
