{
 "cells": [
  {
   "cell_type": "code",
   "execution_count": 3,
   "id": "73a4fbe8",
   "metadata": {},
   "outputs": [
    {
     "name": "stdout",
     "output_type": "stream",
     "text": [
      "{'된장찌개', '피자', '제육볶음'}\n",
      "{'된장찌개', '피자', '제육볶음'}\n"
     ]
    }
   ],
   "source": [
    "set_lunch=set([\"된장찌개\",\"피자\",\"제육볶음\",\"짜장면\"])\n",
    "item=\"짜장면\"\n",
    "print(set_lunch-set([item]))\n",
    "set_lunch=set_lunch-set([item])\n",
    "print(set_lunch)"
   ]
  },
  {
   "cell_type": "code",
   "execution_count": 5,
   "id": "e65611ee",
   "metadata": {},
   "outputs": [
    {
     "name": "stdout",
     "output_type": "stream",
     "text": [
      "{'된장찌개', '피자', '제육볶음'}\n",
      "{'된장찌개', '피자', '제육볶음'}\n"
     ]
    }
   ],
   "source": [
    "set_dinner=set([\"된장찌개\",\"피자\",\"제육볶음\",\"짜장면\"])\n",
    "item=\"짜장면\"\n",
    "print(set_dinner-set([item]))\n",
    "set_dinner=set_dinner-set([item])\n",
    "print(set_dinner)"
   ]
  },
  {
   "cell_type": "code",
   "execution_count": null,
   "id": "a6f7138e",
   "metadata": {},
   "outputs": [],
   "source": []
  }
 ],
 "metadata": {
  "kernelspec": {
   "display_name": "Python 3 (ipykernel)",
   "language": "python",
   "name": "python3"
  },
  "language_info": {
   "codemirror_mode": {
    "name": "ipython",
    "version": 3
   },
   "file_extension": ".py",
   "mimetype": "text/x-python",
   "name": "python",
   "nbconvert_exporter": "python",
   "pygments_lexer": "ipython3",
   "version": "3.9.7"
  }
 },
 "nbformat": 4,
 "nbformat_minor": 5
}
