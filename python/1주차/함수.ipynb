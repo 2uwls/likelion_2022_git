{
 "cells": [
  {
   "cell_type": "code",
   "execution_count": 8,
   "id": "ebc4f2fe",
   "metadata": {},
   "outputs": [
    {
     "name": "stdout",
     "output_type": "stream",
     "text": [
      "1. 블루베리 20g을 넣는다.\n",
      "2. 우유 300ml를 넣는다.\n",
      "3. 얼음을 넣는다.\n",
      "4. 믹서기에 간다.\n",
      "1. 얼음을 넣는다.\n",
      "2. 연유를 30ml 넣는다.\n",
      "3. 찬 우유를 넣는다.\n",
      "4. 에스프레소샷을 넣는다.\n"
     ]
    }
   ],
   "source": [
    "def make_dolcelatte():\n",
    "    print(\"1. 얼음을 넣는다.\")\n",
    "    print(\"2. 연유를 30ml 넣는다.\")\n",
    "    print(\"3. 찬 우유를 넣는다.\")\n",
    "    print(\"4. 에스프레소샷을 넣는다.\")\n",
    "\n",
    "def make_blueberry_smoothie():\n",
    "    print(\"1. 블루베리 20g을 넣는다.\")\n",
    "    print(\"2. 우유 300ml를 넣는다.\")\n",
    "    print(\"3. 얼음을 넣는다.\")\n",
    "    print(\"4. 믹서기에 간다.\")\n",
    "\n",
    "def make_simple_latte():\n",
    "    print(\"1. 커피를 넣는다.\")\n",
    "    print(\"2. 우유를 넣는다.\")\n",
    "    print(\"3. 신나게 섞는다.\")\n",
    "\n",
    "make_blueberry_smoothie()\n",
    "make_dolcelatte()\n",
    "\n"
   ]
  },
  {
   "cell_type": "code",
   "execution_count": null,
   "id": "0c696f8b",
   "metadata": {},
   "outputs": [],
   "source": []
  }
 ],
 "metadata": {
  "kernelspec": {
   "display_name": "Python 3 (ipykernel)",
   "language": "python",
   "name": "python3"
  },
  "language_info": {
   "codemirror_mode": {
    "name": "ipython",
    "version": 3
   },
   "file_extension": ".py",
   "mimetype": "text/x-python",
   "name": "python",
   "nbconvert_exporter": "python",
   "pygments_lexer": "ipython3",
   "version": "3.9.7"
  }
 },
 "nbformat": 4,
 "nbformat_minor": 5
}
